{
  "nbformat": 4,
  "nbformat_minor": 0,
  "metadata": {
    "colab": {
      "name": "Iterative / Looping Problems .ipynb",
      "provenance": [],
      "collapsed_sections": []
    },
    "kernelspec": {
      "name": "python3",
      "display_name": "Python 3"
    },
    "language_info": {
      "name": "python"
    }
  },
  "cells": [
    {
      "cell_type": "markdown",
      "source": [
        "1.Program to find the reverse of a given number"
      ],
      "metadata": {
        "id": "wLFXlORBS3ms"
      }
    },
    {
      "cell_type": "code",
      "execution_count": null,
      "metadata": {
        "colab": {
          "base_uri": "https://localhost:8080/"
        },
        "id": "hBGSByY0JY9d",
        "outputId": "d9da9d4c-54c3-4319-deed-a2b3dbf95b88"
      },
      "outputs": [
        {
          "output_type": "stream",
          "name": "stdout",
          "text": [
            "Enter a number : 54321\n",
            "Entered number is :  54321\n",
            "Revers number is  12345\n"
          ]
        }
      ],
      "source": [
        "a=int(input('Enter a number : '))\n",
        "revnum=0\n",
        "print('Entered number is : ',a)\n",
        "while(a>=1):\n",
        "  x=a%10\n",
        "  revnum=(revnum*10)+x\n",
        "  a=int(a/10)\n",
        "print('Revers number is ',revnum)  "
      ]
    },
    {
      "cell_type": "markdown",
      "source": [
        "2.Program to find the sum of the first N natural numbers."
      ],
      "metadata": {
        "id": "DWvuQ3OzWWFq"
      }
    },
    {
      "cell_type": "code",
      "source": [
        "n=int(input('Enter the Nth natural number'))\n",
        "print('Sum is ',n*(n+1)/2)"
      ],
      "metadata": {
        "colab": {
          "base_uri": "https://localhost:8080/"
        },
        "id": "kpllHWR-WemI",
        "outputId": "fef0128b-4645-41a4-ecab-8176e01d8536"
      },
      "execution_count": null,
      "outputs": [
        {
          "output_type": "stream",
          "name": "stdout",
          "text": [
            "Enter the Nth natural number10\n",
            "Sum is  55.0\n"
          ]
        }
      ]
    },
    {
      "cell_type": "markdown",
      "source": [
        "3.Program to print the sum of the factors of a number"
      ],
      "metadata": {
        "id": "jQMZm_pzXGCc"
      }
    },
    {
      "cell_type": "code",
      "source": [
        "num=int(input('Enter a number : '))\n",
        "print('Entered number is : ',num)\n",
        "sum = 0\n",
        "c = 2\n",
        "while(c<=num/2+1):\n",
        "  if(num%c==0):\n",
        "    sum=sum+c\n",
        "  c=c+1\n",
        "print('Sum of factor is : ',sum)    "
      ],
      "metadata": {
        "colab": {
          "base_uri": "https://localhost:8080/"
        },
        "id": "0MjJDHxLYubD",
        "outputId": "52825d4b-2dbf-4ade-a566-addfe5570d0e"
      },
      "execution_count": null,
      "outputs": [
        {
          "output_type": "stream",
          "name": "stdout",
          "text": [
            "Enter a number : 9\n",
            "Entered number is :  9\n",
            "Sum of factor is :  3\n"
          ]
        }
      ]
    },
    {
      "cell_type": "markdown",
      "source": [
        "4.Program to print the N terms of an arithmetic sequence"
      ],
      "metadata": {
        "id": "cSSWRv8McNJ0"
      }
    },
    {
      "cell_type": "code",
      "source": [
        "f=float(input('Enter the first number :'))\n",
        "d=float(input('Enter the common difference'))\n",
        "n=float(input('Enter the number of terms'))\n",
        "c=1\n",
        "while(c<=n):\n",
        "  term=f+((c-1)*d)\n",
        "  print(term)\n",
        "  c=c+1\n",
        "  \n"
      ],
      "metadata": {
        "colab": {
          "base_uri": "https://localhost:8080/"
        },
        "id": "UbS8e6DgciXW",
        "outputId": "0a0e1d86-1e92-499a-9b82-e618ae58dfcc"
      },
      "execution_count": null,
      "outputs": [
        {
          "output_type": "stream",
          "name": "stdout",
          "text": [
            "Enter the first number :10\n",
            "Enter the common difference10\n",
            "Enter the number of terms5\n",
            "10.0\n",
            "20.0\n",
            "30.0\n",
            "40.0\n",
            "50.0\n"
          ]
        }
      ]
    },
    {
      "cell_type": "markdown",
      "source": [
        "5.Program to print the n terms of the Fibonacci series"
      ],
      "metadata": {
        "id": "vKdPd67XfdaW"
      }
    },
    {
      "cell_type": "code",
      "source": [
        "n=int(input('Enter the number of terms :'))\n",
        "n1=0\n",
        "n2=1\n",
        "if(n==1):\n",
        "  print(n1)\n",
        "elif(n==2):\n",
        "  print(n1)\n",
        "  print(n2)\n",
        "else:\n",
        "  print(n1)\n",
        "  print(n2)\n",
        "  while(n>2):\n",
        "    temp=n1\n",
        "    n1=n2\n",
        "    n2=n2+temp\n",
        "    print(n2)\n",
        "    n=n-1    "
      ],
      "metadata": {
        "colab": {
          "base_uri": "https://localhost:8080/"
        },
        "id": "5xttuWQRflRU",
        "outputId": "419ab22a-e2b4-4e63-e649-2f662990e9db"
      },
      "execution_count": null,
      "outputs": [
        {
          "output_type": "stream",
          "name": "stdout",
          "text": [
            "Enter the number of terms :5\n",
            "0\n",
            "1\n",
            "1\n",
            "2\n",
            "3\n"
          ]
        }
      ]
    },
    {
      "cell_type": "markdown",
      "source": [
        "6.Program to check whether a number is palindrome or not"
      ],
      "metadata": {
        "id": "nIessrZci1jh"
      }
    },
    {
      "cell_type": "code",
      "source": [
        "revnum=0\n",
        "num=int(input('Enter a number :'))\n",
        "n=num\n",
        "while(n>=1):\n",
        "  x=n%10\n",
        "  revnum=(revnum*10)+x\n",
        "  n=n//10\n",
        "print('Reverse number is : ',revnum)\n",
        "if(num==revnum):\n",
        "  print('It is a palliandome number')\n",
        "else:\n",
        "  print('It is not a palliandrome number')  \n",
        "\n"
      ],
      "metadata": {
        "colab": {
          "base_uri": "https://localhost:8080/"
        },
        "id": "nZhNboX7DJHR",
        "outputId": "46e5ef5c-fbf8-4ca1-ed2f-41d5f9014727"
      },
      "execution_count": null,
      "outputs": [
        {
          "output_type": "stream",
          "name": "stdout",
          "text": [
            "Enter a number :12321\n",
            "Reverse number is :  12321\n",
            "It is a palliandome number\n"
          ]
        }
      ]
    },
    {
      "cell_type": "markdown",
      "source": [
        "7.Program to check whether a number is Armstrong or not"
      ],
      "metadata": {
        "id": "7XTOnY3uFsP4"
      }
    },
    {
      "cell_type": "code",
      "source": [
        "num=int(input('Enter a Number: '))\n",
        "temp=num\n",
        "temp2=num\n",
        "c=0\n",
        "sum=0\n",
        "while(temp!=0):\n",
        "  c=c+1\n",
        "  temp=temp//10\n",
        "while(temp2!=0):\n",
        "  x=temp2%10\n",
        "  sum=sum + pow(x,c)\n",
        "  temp2=temp2//10\n",
        "if(num==sum):\n",
        "  print(num,' is an amstrong number')\n",
        "else:\n",
        "  print(num,' is not an amstrong number')      "
      ],
      "metadata": {
        "colab": {
          "base_uri": "https://localhost:8080/"
        },
        "id": "f3aOlq7AGBPD",
        "outputId": "18a140cf-e8fc-4d9b-fbdc-788dcdb4a3db"
      },
      "execution_count": null,
      "outputs": [
        {
          "output_type": "stream",
          "name": "stdout",
          "text": [
            "Enter a Number: 370\n",
            "370  is an amstrong number\n"
          ]
        }
      ]
    },
    {
      "cell_type": "markdown",
      "source": [
        "8.Program to evaluate x^n\n"
      ],
      "metadata": {
        "id": "6SSzKuKCTfpC"
      }
    },
    {
      "cell_type": "code",
      "source": [
        "x=int(input('Enter the number : '))\n",
        "n=int(input('Enter the power : '))\n",
        "p=1\n",
        "c=0\n",
        "while(c!=n):\n",
        "  p=p*x\n",
        "  c=c+1\n",
        "print('X^n : ',p)  "
      ],
      "metadata": {
        "colab": {
          "base_uri": "https://localhost:8080/"
        },
        "id": "ZFn7umUCgy3W",
        "outputId": "47b52424-ba19-4691-9dda-5d8a067c383b"
      },
      "execution_count": 2,
      "outputs": [
        {
          "output_type": "stream",
          "name": "stdout",
          "text": [
            "Enter the number : 5\n",
            "Enter the power : 2\n",
            "X^n :  25\n"
          ]
        }
      ]
    },
    {
      "cell_type": "markdown",
      "source": [
        "9.Program to print first n odd number"
      ],
      "metadata": {
        "id": "Pzwq1wtjm26o"
      }
    },
    {
      "cell_type": "code",
      "source": [
        "f=1\n",
        "c=0\n",
        "n=int(input('Enter the number : '))\n",
        "while(c!=n):\n",
        "  print(f)\n",
        "  c=c+1\n",
        "  f=f+2"
      ],
      "metadata": {
        "colab": {
          "base_uri": "https://localhost:8080/"
        },
        "id": "xtekkCLym611",
        "outputId": "7f4c3a3c-ef6b-435c-c327-33b19e61d4c4"
      },
      "execution_count": 3,
      "outputs": [
        {
          "output_type": "stream",
          "name": "stdout",
          "text": [
            "Enter the number : 5\n",
            "1\n",
            "3\n",
            "5\n",
            "7\n",
            "9\n"
          ]
        }
      ]
    },
    {
      "cell_type": "markdown",
      "source": [
        "10.Program to print GCD of 2 numbers"
      ],
      "metadata": {
        "id": "FUw2m-hAnmYW"
      }
    },
    {
      "cell_type": "code",
      "source": [
        "n1=int(input('Enter the first number : '))\n",
        "n2=int(input('Enter the second number : '))\n",
        "gcd=0\n",
        "c=0\n",
        "while(c<n1):\n",
        "  c=c+1\n",
        "  if(n1%c==0 and n2%c==0):\n",
        "    gcd=c\n",
        "if(gcd==0):\n",
        "  print('No GCD')\n",
        "else:\n",
        "  print('GCD is : ',gcd)      \n",
        "\n"
      ],
      "metadata": {
        "colab": {
          "base_uri": "https://localhost:8080/"
        },
        "id": "H9g9uPYNnyYu",
        "outputId": "b0b2350f-e1ae-4cf7-d565-b702cb290738"
      },
      "execution_count": 4,
      "outputs": [
        {
          "output_type": "stream",
          "name": "stdout",
          "text": [
            "Enter the first number : 9\n",
            "Enter the second number : 6\n",
            "GCD is :  3\n"
          ]
        }
      ]
    },
    {
      "cell_type": "markdown",
      "source": [
        "11.Program to print factorial of a given number"
      ],
      "metadata": {
        "id": "cp9it9FKrHy4"
      }
    },
    {
      "cell_type": "code",
      "source": [
        "num=int(input('Enter the number : '))\n",
        "n=1\n",
        "if(num==0):\n",
        "  print('Factorial of the number is 1')\n",
        "else:\n",
        "  while(num>1):\n",
        "    n=n*num\n",
        "    num=num-1\n",
        "  print('Factorial of the number is : ',n)    \n"
      ],
      "metadata": {
        "colab": {
          "base_uri": "https://localhost:8080/"
        },
        "id": "9mshVmr0rRkr",
        "outputId": "d4330b8e-a549-4c8f-c149-0ca05281a95d"
      },
      "execution_count": 5,
      "outputs": [
        {
          "output_type": "stream",
          "name": "stdout",
          "text": [
            "Enter the number : 5\n",
            "Factorial of the number is :  120\n"
          ]
        }
      ]
    },
    {
      "cell_type": "markdown",
      "source": [
        "12.Program to print squares of natural numbers between two numbers."
      ],
      "metadata": {
        "id": "wH2WQO3qsHfl"
      }
    },
    {
      "cell_type": "code",
      "source": [
        "num1=int(input('Enter the first number : '))\n",
        "num2=int(input('Enter the last number : '))\n",
        "while(num1<=num2):\n",
        "  sqr=num1*num1\n",
        "  num1=num1+1\n",
        "  print(sqr)\n"
      ],
      "metadata": {
        "colab": {
          "base_uri": "https://localhost:8080/"
        },
        "id": "8FH9o8H0sU_M",
        "outputId": "84c894fd-3c5d-47fb-c132-b6611daa0405"
      },
      "execution_count": 7,
      "outputs": [
        {
          "output_type": "stream",
          "name": "stdout",
          "text": [
            "Enter the first number : 2\n",
            "Enter the last number : 8\n",
            "4\n",
            "9\n",
            "16\n",
            "25\n",
            "36\n",
            "49\n",
            "64\n"
          ]
        }
      ]
    },
    {
      "cell_type": "markdown",
      "source": [
        "13.Program to find the sum of the given series, up to n terms. S\n",
        "= 1 - 4 + 9 - 16 + ....\n"
      ],
      "metadata": {
        "id": "n7Jg9veftHVG"
      }
    },
    {
      "cell_type": "code",
      "source": [
        "n=int(input('Enter the number of terms : '))\n",
        "c=1\n",
        "sum=0\n",
        "sign=1\n",
        "while(c<=n):\n",
        "  temp=sign*(c**2)\n",
        "  sum=sum+temp\n",
        "  sign=sign*(-1)\n",
        "  c=c+1\n",
        "print('Toyal sum is : ',sum)  \n"
      ],
      "metadata": {
        "colab": {
          "base_uri": "https://localhost:8080/"
        },
        "id": "f3EAxtKutQSh",
        "outputId": "333271f2-edd5-495e-c0d3-718d40e68c68"
      },
      "execution_count": 9,
      "outputs": [
        {
          "output_type": "stream",
          "name": "stdout",
          "text": [
            "Enter the number of terms : 4\n",
            "Toyal sum is :  -10\n"
          ]
        }
      ]
    },
    {
      "cell_type": "markdown",
      "source": [
        "14.Program to check whether a given number is Automorphic or\n",
        "not."
      ],
      "metadata": {
        "id": "nRBOW5FduHWq"
      }
    },
    {
      "cell_type": "code",
      "source": [
        "num=int(input('Enter the num : '))\n",
        "c=0\n",
        "sqr=num*num\n",
        "temp=num\n",
        "while(temp>=1):\n",
        "  c=c+1\n",
        "  temp=temp//10\n",
        "if(num==sqr%10**c):\n",
        "  print(num,' is Automorphic')\n",
        "else:\n",
        "  print(num,' is not Auotomorphic')    "
      ],
      "metadata": {
        "colab": {
          "base_uri": "https://localhost:8080/"
        },
        "id": "mGsdpRRDugzY",
        "outputId": "dcbde241-fc05-460b-f1db-4518676adcf7"
      },
      "execution_count": 14,
      "outputs": [
        {
          "output_type": "stream",
          "name": "stdout",
          "text": [
            "Enter the num : 5\n",
            "5  is Automorphic\n"
          ]
        }
      ]
    },
    {
      "cell_type": "markdown",
      "source": [
        "15.Program to read a binary number and print its decimal equivalent."
      ],
      "metadata": {
        "id": "E7nkjIRAyRXO"
      }
    },
    {
      "cell_type": "code",
      "source": [
        "bi=int(input('Enter the binary number : '))\n",
        "c=0\n",
        "deci=0\n",
        "while(bi>=1):\n",
        "  remn=bi%10\n",
        "  bi=bi//10\n",
        "  deci=deci+remn*2**c\n",
        "  c=c+1\n",
        "print('Dcimal number is : ',deci)  "
      ],
      "metadata": {
        "colab": {
          "base_uri": "https://localhost:8080/"
        },
        "id": "ffXa7JnpyejX",
        "outputId": "b3a8b31d-c995-48a0-ba5d-07fb43dcea54"
      },
      "execution_count": 15,
      "outputs": [
        {
          "output_type": "stream",
          "name": "stdout",
          "text": [
            "Enter the binary number : 1001\n",
            "Dcimal number is :  9\n"
          ]
        }
      ]
    }
  ]
}