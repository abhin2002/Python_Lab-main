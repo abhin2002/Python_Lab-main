{
  "nbformat": 4,
  "nbformat_minor": 0,
  "metadata": {
    "colab": {
      "name": "RAPTOR Sequential Problems .ipynb",
      "provenance": [],
      "collapsed_sections": []
    },
    "kernelspec": {
      "name": "python3",
      "display_name": "Python 3"
    },
    "language_info": {
      "name": "python"
    }
  },
  "cells": [
    {
      "cell_type": "markdown",
      "source": [
        "****Sequential Problems****"
      ],
      "metadata": {
        "id": "c5aZjbl6n46J"
      }
    },
    {
      "cell_type": "markdown",
      "source": [
        "**1.Flowchart to print the Average of Three Numbers.**"
      ],
      "metadata": {
        "id": "QIzFGdLsnBwm"
      }
    },
    {
      "cell_type": "code",
      "source": [
        "a=int(input('Enter the first number'))\n",
        "b=int(input('Enter the second number'))\n",
        "c=int(input('Enter the third number'))\n",
        "avg=(a+b+c)/3\n",
        "print(\"Average : \",avg)"
      ],
      "metadata": {
        "colab": {
          "base_uri": "https://localhost:8080/"
        },
        "id": "OUvfgcjMqJN6",
        "outputId": "952ddc2b-66a1-4208-cea0-50d0cc781246"
      },
      "execution_count": 3,
      "outputs": [
        {
          "output_type": "stream",
          "name": "stdout",
          "text": [
            "Enter the first number2\n",
            "Enter the second number6\n",
            "Enter the third number4\n",
            "Average :  4.0\n"
          ]
        }
      ]
    },
    {
      "cell_type": "markdown",
      "source": [
        "**2.Flowchart to print the Sum and Average of Three Numbers.**"
      ],
      "metadata": {
        "id": "jKB2ED1ntkf-"
      }
    },
    {
      "cell_type": "code",
      "source": [
        "a=int(input('Enter the first number'))\n",
        "b=int(input('Enter the second number'))\n",
        "c=int(input('Enter the third number'))\n",
        "sum=a+b+c\n",
        "print('Sum : ',sum)\n",
        "avg=sum/3\n",
        "print(\"Average : \",avg)"
      ],
      "metadata": {
        "colab": {
          "base_uri": "https://localhost:8080/"
        },
        "id": "hNzSUx-Nt4Ci",
        "outputId": "37f7b756-e6f0-479c-bd44-60247df45be8"
      },
      "execution_count": 1,
      "outputs": [
        {
          "output_type": "stream",
          "name": "stdout",
          "text": [
            "Enter the first number5\n",
            "Enter the second number8\n",
            "Enter the third number2\n",
            "Sum :  15\n",
            "Average :  5.0\n"
          ]
        }
      ]
    },
    {
      "cell_type": "markdown",
      "source": [
        "**3.Flowchart to Convert the Time entered in Seconds to Hours,Minutes,Seconds.**"
      ],
      "metadata": {
        "id": "w8YX3KGgu04B"
      }
    },
    {
      "cell_type": "code",
      "source": [
        "t=int(input('Enter the time in seconds'))\n",
        "h=int(t/3600)\n",
        "s=t%3600\n",
        "m=int(s/60)\n",
        "print(h,':',m,':',s)"
      ],
      "metadata": {
        "colab": {
          "base_uri": "https://localhost:8080/"
        },
        "id": "ep2XtVhhu90W",
        "outputId": "bae0fccb-a720-470e-adc2-ba9c611634f1"
      },
      "execution_count": 2,
      "outputs": [
        {
          "output_type": "stream",
          "name": "stdout",
          "text": [
            "Enter the time in seconds3604\n",
            "1 : 0 : 4\n"
          ]
        }
      ]
    },
    {
      "cell_type": "markdown",
      "source": [
        "**4.Flowchart to Print the Area and Perimeter of a Triangle.**"
      ],
      "metadata": {
        "id": "cIiygbAMu-0f"
      }
    },
    {
      "cell_type": "code",
      "source": [
        "a=int(input('Enter the first side'))\n",
        "b=int(input('Enter the second side'))\n",
        "c=int(input('Enter the third side'))\n",
        "peri=a+b+c\n",
        "s=peri/2\n",
        "ar=(s*(s-a)*(s-b)*(s-c))\n",
        "area=(ar**0.5)\n",
        "print('Primeter : ',peri,'Area : ',area)\n"
      ],
      "metadata": {
        "colab": {
          "base_uri": "https://localhost:8080/"
        },
        "id": "ORtbVfNGimMA",
        "outputId": "9b5de66a-7c5e-4d67-e84f-f47437f8cc24"
      },
      "execution_count": 2,
      "outputs": [
        {
          "output_type": "stream",
          "name": "stdout",
          "text": [
            "Enter the first side3\n",
            "Enter the second side4\n",
            "Enter the third side5\n",
            "Primeter :  12 Area :  6.0\n"
          ]
        }
      ]
    },
    {
      "cell_type": "markdown",
      "source": [
        "**5.Flowchart to Print the Area of a Circle.**"
      ],
      "metadata": {
        "id": "ollCLEMSinAE"
      }
    },
    {
      "cell_type": "code",
      "source": [
        "r=int(input('Enter the radius of circle'))\n",
        "area=3.14*r*r\n",
        "print('Area : ',area)"
      ],
      "metadata": {
        "colab": {
          "base_uri": "https://localhost:8080/"
        },
        "id": "fwZhZGtTi2E9",
        "outputId": "946a6366-e389-4d73-f007-03806978b091"
      },
      "execution_count": 5,
      "outputs": [
        {
          "output_type": "stream",
          "name": "stdout",
          "text": [
            "Enter the radius of circle5\n",
            "Area :  78.5\n"
          ]
        }
      ]
    },
    {
      "cell_type": "markdown",
      "source": [
        "**6.Flowchart to enter two unequal number and interchange them without using a third variable.**"
      ],
      "metadata": {
        "id": "ehpPuznbi2o1"
      }
    },
    {
      "cell_type": "code",
      "source": [
        "a=int(input('Enter the first number'))\n",
        "b=int(input('Enter the second number'))\n",
        "print('Before swapping')\n",
        "print('a:',a,'b:',b)\n",
        "a=a+b\n",
        "b=a-b\n",
        "a=a-b\n",
        "print('After swapping')\n",
        "print('a : ',a,'b : ',b)"
      ],
      "metadata": {
        "colab": {
          "base_uri": "https://localhost:8080/"
        },
        "id": "8M3iMiPci982",
        "outputId": "9a1114f9-1445-4145-8183-b6b6910006e4"
      },
      "execution_count": 8,
      "outputs": [
        {
          "output_type": "stream",
          "name": "stdout",
          "text": [
            "Enter the first number5\n",
            "Enter the second number10\n",
            "Before swapping\n",
            "a: 5 b: 10\n",
            "After swapping\n",
            "a :  10 b :  5\n"
          ]
        }
      ]
    },
    {
      "cell_type": "markdown",
      "source": [
        "**7.Flowchart to display sum, difference, product, quotient and remainder of two unequal numbers.**"
      ],
      "metadata": {
        "id": "4egDwAfGi_HH"
      }
    },
    {
      "cell_type": "code",
      "source": [
        "a=int(input('Enter the number'))\n",
        "b=int(input('Enter the number'))\n",
        "sum=a+b\n",
        "diff=a-b\n",
        "prd=a*b\n",
        "quo=int(a/b)\n",
        "rem=a%b\n",
        "print('Sum : ',sum,'Difference : ',diff,'Product : ',prd,'Quotient : ',quo,'Reminder : ',rem)"
      ],
      "metadata": {
        "colab": {
          "base_uri": "https://localhost:8080/"
        },
        "id": "tkqHnkQejPGf",
        "outputId": "b202c609-4c20-4d64-960a-835c5f6316b3"
      },
      "execution_count": 10,
      "outputs": [
        {
          "output_type": "stream",
          "name": "stdout",
          "text": [
            "Enter the number5\n",
            "Enter the number2\n",
            "Sum :  7 Difference :  3 Product :  10 Quotient :  2 Reminder :  1\n"
          ]
        }
      ]
    },
    {
      "cell_type": "markdown",
      "source": [
        "**8.Flowchart to Write a program to enter the number of days and display into years, months and days.**"
      ],
      "metadata": {
        "id": "OFn3g3i-jiBO"
      }
    },
    {
      "cell_type": "code",
      "source": [
        "t=int(input('Enter the number of days'))\n",
        "y=int(t/365)\n",
        "m=int((t%365)/12)\n",
        "d=int((t%365)%12)\n",
        "print('Year : ',y,'Month : ',m,'Days : ',d)\n"
      ],
      "metadata": {
        "colab": {
          "base_uri": "https://localhost:8080/"
        },
        "id": "EleGwDNwjpJS",
        "outputId": "7d0f4ef4-4c2e-4fb1-f8b5-a13e273d643a"
      },
      "execution_count": 11,
      "outputs": [
        {
          "output_type": "stream",
          "name": "stdout",
          "text": [
            "Enter the number of days369\n",
            "Year :  1 Month :  0 Days :  4\n"
          ]
        }
      ]
    },
    {
      "cell_type": "code",
      "source": [
        ""
      ],
      "metadata": {
        "id": "-LaXd4m7OgeZ"
      },
      "execution_count": null,
      "outputs": []
    }
  ]
}