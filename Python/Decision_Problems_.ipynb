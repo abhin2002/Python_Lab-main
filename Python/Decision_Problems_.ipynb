{
  "nbformat": 4,
  "nbformat_minor": 0,
  "metadata": {
    "colab": {
      "name": "Decision Problems .ipynb",
      "provenance": [],
      "collapsed_sections": []
    },
    "kernelspec": {
      "name": "python3",
      "display_name": "Python 3"
    },
    "language_info": {
      "name": "python"
    }
  },
  "cells": [
    {
      "cell_type": "markdown",
      "source": [
        "# **Decision Problems**"
      ],
      "metadata": {
        "id": "LI8QbK7Q3te5"
      }
    },
    {
      "cell_type": "markdown",
      "source": [
        "1.Program to find the Bigger Number\n"
      ],
      "metadata": {
        "id": "5eEOmAz031-_"
      }
    },
    {
      "cell_type": "code",
      "execution_count": null,
      "metadata": {
        "colab": {
          "base_uri": "https://localhost:8080/"
        },
        "id": "UHgHwVre3OoI",
        "outputId": "56a7cc85-33a7-4b2f-c89b-af1791de6546"
      },
      "outputs": [
        {
          "output_type": "stream",
          "name": "stdout",
          "text": [
            "Enter the first number : 11\n",
            "Enter the second number : 11\n",
            "Greatest number is  11\n"
          ]
        }
      ],
      "source": [
        "a=int(input('Enter the first number : '))\n",
        "b=int(input('Enter the second number : '))\n",
        "if(a>b):\n",
        "  print('Greatest number is ',a)\n",
        "else:\n",
        "  print('Greatest number is ',b)  \n"
      ]
    },
    {
      "cell_type": "markdown",
      "source": [
        "2.Program to find smallest of three numbers"
      ],
      "metadata": {
        "id": "LsseaeFL62gn"
      }
    },
    {
      "cell_type": "code",
      "source": [
        "a=int(input('Enter the first numer :'))\n",
        "b=int(input('Ente the second number :'))\n",
        "c=int(input('Enter the third number :'))\n",
        "if(a>b):\n",
        "  if(b>c):\n",
        "    print('Smallest number is :',c)\n",
        "  else:\n",
        "    print('Smallest number is :',b)\n",
        "elif(a>c):\n",
        "  print('Smallest number is ',c)\n",
        "else:\n",
        "  print('Smallest number is :',a)        "
      ],
      "metadata": {
        "colab": {
          "base_uri": "https://localhost:8080/"
        },
        "id": "Kav_GMtQ6-nU",
        "outputId": "b3fb277a-fa69-4e01-b556-29937c96af65"
      },
      "execution_count": null,
      "outputs": [
        {
          "output_type": "stream",
          "name": "stdout",
          "text": [
            "Enter the first numer :5\n",
            "Ente the second number :4\n",
            "Enter the third number :6\n",
            "Smallest number is : 4\n"
          ]
        }
      ]
    },
    {
      "cell_type": "markdown",
      "source": [
        "3.Program to find distance between two points on a number\n",
        "line"
      ],
      "metadata": {
        "id": "EuXo_Pog_TDQ"
      }
    },
    {
      "cell_type": "code",
      "source": [
        "a=int(input('Enter the number :'))\n",
        "b=int(input('Ente the number :'))\n",
        "if(a>b):\n",
        "  print('Distance = ',a-b)\n",
        "else:\n",
        "  print('Distance = ',b-a)  "
      ],
      "metadata": {
        "id": "vdZwy04J_qOB",
        "colab": {
          "base_uri": "https://localhost:8080/"
        },
        "outputId": "c3071b11-0912-45b0-d069-5267e31bff25"
      },
      "execution_count": 4,
      "outputs": [
        {
          "output_type": "stream",
          "name": "stdout",
          "text": [
            "Enter the number :-5\n",
            "Ente the number :-3\n",
            "Distance =  2\n"
          ]
        }
      ]
    },
    {
      "cell_type": "markdown",
      "source": [
        "4.Program to find whather a number is 2 digit or not."
      ],
      "metadata": {
        "id": "QwFMduaO3Msv"
      }
    },
    {
      "cell_type": "code",
      "source": [
        "a=int(input('Enter a number :'))\n",
        "if(9<a<100):\n",
        "  print(a,' is a two digit number')\n",
        "else:\n",
        "  print(a,' is not a two digit number')"
      ],
      "metadata": {
        "colab": {
          "base_uri": "https://localhost:8080/"
        },
        "id": "0uCZzhi-4BZo",
        "outputId": "2d9b52b2-5ba2-416d-b318-333c58b4e46e"
      },
      "execution_count": 7,
      "outputs": [
        {
          "output_type": "stream",
          "name": "stdout",
          "text": [
            "Enter a number :100\n",
            "100  is not a two digit number\n"
          ]
        }
      ]
    },
    {
      "cell_type": "markdown",
      "source": [
        "5.Program to find given number is -ve +ve or zero\n"
      ],
      "metadata": {
        "id": "qXENUvh65XZl"
      }
    },
    {
      "cell_type": "code",
      "source": [
        "a=int(input('Enter a number'))\n",
        "if(a==0):\n",
        "  print('Given number is zero')\n",
        "elif(a>0):\n",
        "  print('Given number is positive')\n",
        "else:\n",
        "  print('Given number is negative')    "
      ],
      "metadata": {
        "colab": {
          "base_uri": "https://localhost:8080/"
        },
        "id": "k-jvmQel5b6c",
        "outputId": "174d951f-31cd-4b0c-9d53-3c69863d2382"
      },
      "execution_count": 10,
      "outputs": [
        {
          "output_type": "stream",
          "name": "stdout",
          "text": [
            "Enter a number-12\n",
            "Given number is negative\n"
          ]
        }
      ]
    },
    {
      "cell_type": "markdown",
      "source": [
        "6.Program for checking wheather a number is multiple of another"
      ],
      "metadata": {
        "id": "rRh-iacH6n9t"
      }
    },
    {
      "cell_type": "code",
      "source": [
        "a=int(input('Enter a number'))\n",
        "b=int(input('Enter a number'))\n",
        "if( a%b==0):\n",
        "  print(a,' is multiple of ',b)\n",
        "else:\n",
        "  print(a,' is not a multiple of ',b)\n",
        "if(b%a==0):\n",
        "  print(b,' is a multiple of ',a)\n",
        "else:\n",
        "  print(b,' is not a muiltiple of ',a)    \n"
      ],
      "metadata": {
        "colab": {
          "base_uri": "https://localhost:8080/"
        },
        "id": "HB-IdFSo6uju",
        "outputId": "4e8ddb05-c14d-472e-b9e0-70d7ddf7adf5"
      },
      "execution_count": 12,
      "outputs": [
        {
          "output_type": "stream",
          "name": "stdout",
          "text": [
            "Enter a number5\n",
            "Enter a number10\n",
            "5  is not a multiple of  10\n",
            "10  is a multiple of  5\n"
          ]
        }
      ]
    },
    {
      "cell_type": "markdown",
      "source": [
        "7. Program for finding smallest digit in a2 digit number"
      ],
      "metadata": {
        "id": "p_GvTZU59QTu"
      }
    },
    {
      "cell_type": "code",
      "source": [
        "a=int(input('Enter a number :'))\n",
        "b=a%10\n",
        "c=int(a/10)\n",
        "if(b>c):\n",
        "  print(c,' is the smallest digit in ',a)\n",
        "else:\n",
        "  print(b,' is the smallest digit in ',a)  "
      ],
      "metadata": {
        "colab": {
          "base_uri": "https://localhost:8080/"
        },
        "id": "Rjf78dZl9SdV",
        "outputId": "927f4bb1-6748-477b-ce75-81ca17d2f381"
      },
      "execution_count": 15,
      "outputs": [
        {
          "output_type": "stream",
          "name": "stdout",
          "text": [
            "Enter a number :21\n",
            "1  is the smallest digit in  21\n"
          ]
        }
      ]
    },
    {
      "cell_type": "markdown",
      "source": [
        "8.Program for finding nature solution of a quadratic equation"
      ],
      "metadata": {
        "id": "PO-oDvjB_zio"
      }
    },
    {
      "cell_type": "code",
      "source": [
        "a=int(input('Entr the coefficient of x^2'))\n",
        "b=int(input('Enter the coeffient of x'))\n",
        "c=int(input('Enter the constant c'))\n",
        "if(b**2-4*a*c>=0):\n",
        "  if(b**2-4*a*c==0):\n",
        "    print('Same real root')\n",
        "  else:\n",
        "    print('Different real roots')\n",
        "else:\n",
        "  print('Roots are imagery')      "
      ],
      "metadata": {
        "colab": {
          "base_uri": "https://localhost:8080/"
        },
        "id": "mjGD_G4M_10o",
        "outputId": "07d97239-af62-46d3-b062-993e21aae5e8"
      },
      "execution_count": 17,
      "outputs": [
        {
          "output_type": "stream",
          "name": "stdout",
          "text": [
            "Entr the coefficient of x^21\n",
            "Enter the coeffient of x2\n",
            "Enter the constant c1\n",
            "Same real root\n"
          ]
        }
      ]
    }
  ]
}